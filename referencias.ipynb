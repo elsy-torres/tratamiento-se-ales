{
  "nbformat": 4,
  "nbformat_minor": 0,
  "metadata": {
    "colab": {
      "name": "Untitled4.ipynb",
      "provenance": [],
      "toc_visible": true,
      "authorship_tag": "ABX9TyMTV+9++D1JZqhnZC2HZZgZ",
      "include_colab_link": true
    },
    "kernelspec": {
      "name": "python3",
      "display_name": "Python 3"
    }
  },
  "cells": [
    {
      "cell_type": "markdown",
      "metadata": {
        "id": "view-in-github",
        "colab_type": "text"
      },
      "source": [
        "<a href=\"https://colab.research.google.com/github/elsy-torres/tratamiento-se-ales/blob/main/referencias.ipynb\" target=\"_parent\"><img src=\"https://colab.research.google.com/assets/colab-badge.svg\" alt=\"Open In Colab\"/></a>"
      ]
    },
    {
      "cell_type": "markdown",
      "metadata": {
        "id": "jq2UHvAtyY-6"
      },
      "source": [
        "# Histograma de Sismicidad"
      ]
    },
    {
      "cell_type": "code",
      "metadata": {
        "id": "iYTnM22SyO7y"
      },
      "source": [
        "import matplotlib.pyplot as plt\n",
        "import pandas as pd\n",
        "import numpy as np"
      ],
      "execution_count": 76,
      "outputs": []
    },
    {
      "cell_type": "code",
      "metadata": {
        "colab": {
          "base_uri": "https://localhost:8080/"
        },
        "id": "9X9QA3qJzV2q",
        "outputId": "ed029abd-68b4-4ba0-f782-0bbe945bf994"
      },
      "source": [
        "data=pd.read_csv('catalog.csv',names=['date','lat','lon','depth','Ml','MC','MW'],skiprows=2,sep=',',engine='python')\n",
        "print(data)"
      ],
      "execution_count": 77,
      "outputs": [
        {
          "output_type": "stream",
          "text": [
            "           date     lat      lon  depth   Ml   MC   MW\n",
            "0    04/04/2010  32.155 -115.256   10.0  5.5  0.0  5.5\n",
            "1    04/04/2010  32.260 -115.349    6.0  0.0  2.2  2.2\n",
            "2    04/04/2010  32.210 -115.424    7.0  0.0  2.2  2.2\n",
            "3    04/04/2010  32.165 -115.283    8.0  0.0  1.9  1.9\n",
            "4    04/04/2010  32.269 -115.327    6.0  4.7  0.0  4.7\n",
            "..          ...     ...      ...    ...  ...  ...  ...\n",
            "99   11/04/2010  32.329 -115.344    1.6  3.1  2.9  3.1\n",
            "100  12/04/2010  32.347 -115.395    5.9  3.0  3.3  3.0\n",
            "101  12/04/2010  32.297 -115.339    4.0  3.1  2.9  3.1\n",
            "102  12/04/2010  32.266 -115.264    4.8  3.9  4.0  3.9\n",
            "103  12/04/2010  32.045 -115.021    8.0  3.9  3.7  3.9\n",
            "\n",
            "[104 rows x 7 columns]\n"
          ],
          "name": "stdout"
        }
      ]
    },
    {
      "cell_type": "code",
      "metadata": {
        "id": "2YM_c9WzH28R",
        "outputId": "d264242b-a8ba-45ea-8319-0f9bc495dc5a",
        "colab": {
          "base_uri": "https://localhost:8080/",
          "height": 265
        }
      },
      "source": [
        "hist = data['date'].hist()"
      ],
      "execution_count": 60,
      "outputs": [
        {
          "output_type": "display_data",
          "data": {
            "image/png": "[encoded data removed]",
            "text/plain": [
              "<Figure size 432x288 with 1 Axes>"
            ]
          },
          "metadata": {
            "tags": [],
            "needs_background": "light"
          }
        }
      ]
    },
    {
      "cell_type": "code",
      "metadata": {
        "id": "iLJktsQNBAYL"
      },
      "source": [
        "A=data['date']"
      ],
      "execution_count": 21,
      "outputs": []
    },
    {
      "cell_type": "code",
      "metadata": {
        "colab": {
          "base_uri": "https://localhost:8080/"
        },
        "id": "55r7UWyZ0e41",
        "outputId": "a1c9eb84-3879-4980-9e6a-091dc89ff131"
      },
      "source": [
        "n=len(data)\n",
        "print(n)"
      ],
      "execution_count": 58,
      "outputs": [
        {
          "output_type": "stream",
          "text": [
            "933\n"
          ],
          "name": "stdout"
        }
      ]
    },
    {
      "cell_type": "code",
      "metadata": {
        "id": "VOAm4uff3Tna"
      },
      "source": [
        "day=100"
      ],
      "execution_count": 4,
      "outputs": []
    },
    {
      "cell_type": "code",
      "metadata": {
        "id": "vSZqrOzr3K5d",
        "outputId": "9bab29b1-87ab-4272-f56e-bcb2ca28b6df",
        "colab": {
          "base_uri": "https://localhost:8080/"
        }
      },
      "source": [
        "bins=np.arange(1,day+1)\n",
        "print(len(bins))"
      ],
      "execution_count": 5,
      "outputs": [
        {
          "output_type": "stream",
          "text": [
            "100\n"
          ],
          "name": "stdout"
        }
      ]
    },
    {
      "cell_type": "code",
      "metadata": {
        "colab": {
          "base_uri": "https://localhost:8080/",
          "height": 359
        },
        "id": "zyr2wUh73j5e",
        "outputId": "94e42508-8844-4b7d-aa77-2338525b7bb5"
      },
      "source": [
        "df=pd.DataFrame(data)\n",
        "from IPython.display import display # ignorar(es estetica)\n",
        "display(df.head(10))"
      ],
      "execution_count": 78,
      "outputs": [
        {
          "output_type": "display_data",
          "data": {
            "text/html": [
              "<div>\n",
              "<style scoped>\n",
              "    .dataframe tbody tr th:only-of-type {\n",
              "        vertical-align: middle;\n",
              "    }\n",
              "\n",
              "    .dataframe tbody tr th {\n",
              "        vertical-align: top;\n",
              "    }\n",
              "\n",
              "    .dataframe thead th {\n",
              "        text-align: right;\n",
              "    }\n",
              "</style>\n",
              "<table border=\"1\" class=\"dataframe\">\n",
              "  <thead>\n",
              "    <tr style=\"text-align: right;\">\n",
              "      <th></th>\n",
              "      <th>date</th>\n",
              "      <th>lat</th>\n",
              "      <th>lon</th>\n",
              "      <th>depth</th>\n",
              "      <th>Ml</th>\n",
              "      <th>MC</th>\n",
              "      <th>MW</th>\n",
              "    </tr>\n",
              "  </thead>\n",
              "  <tbody>\n",
              "    <tr>\n",
              "      <th>0</th>\n",
              "      <td>04/04/2010</td>\n",
              "      <td>32.155</td>\n",
              "      <td>-115.256</td>\n",
              "      <td>10.0</td>\n",
              "      <td>5.5</td>\n",
              "      <td>0.0</td>\n",
              "      <td>5.5</td>\n",
              "    </tr>\n",
              "    <tr>\n",
              "      <th>1</th>\n",
              "      <td>04/04/2010</td>\n",
              "      <td>32.260</td>\n",
              "      <td>-115.349</td>\n",
              "      <td>6.0</td>\n",
              "      <td>0.0</td>\n",
              "      <td>2.2</td>\n",
              "      <td>2.2</td>\n",
              "    </tr>\n",
              "    <tr>\n",
              "      <th>2</th>\n",
              "      <td>04/04/2010</td>\n",
              "      <td>32.210</td>\n",
              "      <td>-115.424</td>\n",
              "      <td>7.0</td>\n",
              "      <td>0.0</td>\n",
              "      <td>2.2</td>\n",
              "      <td>2.2</td>\n",
              "    </tr>\n",
              "    <tr>\n",
              "      <th>3</th>\n",
              "      <td>04/04/2010</td>\n",
              "      <td>32.165</td>\n",
              "      <td>-115.283</td>\n",
              "      <td>8.0</td>\n",
              "      <td>0.0</td>\n",
              "      <td>1.9</td>\n",
              "      <td>1.9</td>\n",
              "    </tr>\n",
              "    <tr>\n",
              "      <th>4</th>\n",
              "      <td>04/04/2010</td>\n",
              "      <td>32.269</td>\n",
              "      <td>-115.327</td>\n",
              "      <td>6.0</td>\n",
              "      <td>4.7</td>\n",
              "      <td>0.0</td>\n",
              "      <td>4.7</td>\n",
              "    </tr>\n",
              "    <tr>\n",
              "      <th>5</th>\n",
              "      <td>04/04/2010</td>\n",
              "      <td>32.247</td>\n",
              "      <td>-115.296</td>\n",
              "      <td>8.0</td>\n",
              "      <td>5.5</td>\n",
              "      <td>0.0</td>\n",
              "      <td>5.5</td>\n",
              "    </tr>\n",
              "    <tr>\n",
              "      <th>6</th>\n",
              "      <td>04/04/2010</td>\n",
              "      <td>32.239</td>\n",
              "      <td>-115.294</td>\n",
              "      <td>8.0</td>\n",
              "      <td>4.3</td>\n",
              "      <td>0.0</td>\n",
              "      <td>4.3</td>\n",
              "    </tr>\n",
              "    <tr>\n",
              "      <th>7</th>\n",
              "      <td>04/04/2010</td>\n",
              "      <td>32.240</td>\n",
              "      <td>-115.300</td>\n",
              "      <td>6.0</td>\n",
              "      <td>5.7</td>\n",
              "      <td>0.0</td>\n",
              "      <td>5.7</td>\n",
              "    </tr>\n",
              "    <tr>\n",
              "      <th>8</th>\n",
              "      <td>04/04/2010</td>\n",
              "      <td>32.296</td>\n",
              "      <td>-115.388</td>\n",
              "      <td>6.0</td>\n",
              "      <td>4.8</td>\n",
              "      <td>0.0</td>\n",
              "      <td>4.8</td>\n",
              "    </tr>\n",
              "    <tr>\n",
              "      <th>9</th>\n",
              "      <td>05/04/2010</td>\n",
              "      <td>32.156</td>\n",
              "      <td>-115.222</td>\n",
              "      <td>9.0</td>\n",
              "      <td>4.8</td>\n",
              "      <td>0.0</td>\n",
              "      <td>4.8</td>\n",
              "    </tr>\n",
              "  </tbody>\n",
              "</table>\n",
              "</div>"
            ],
            "text/plain": [
              "         date     lat      lon  depth   Ml   MC   MW\n",
              "0  04/04/2010  32.155 -115.256   10.0  5.5  0.0  5.5\n",
              "1  04/04/2010  32.260 -115.349    6.0  0.0  2.2  2.2\n",
              "2  04/04/2010  32.210 -115.424    7.0  0.0  2.2  2.2\n",
              "3  04/04/2010  32.165 -115.283    8.0  0.0  1.9  1.9\n",
              "4  04/04/2010  32.269 -115.327    6.0  4.7  0.0  4.7\n",
              "5  04/04/2010  32.247 -115.296    8.0  5.5  0.0  5.5\n",
              "6  04/04/2010  32.239 -115.294    8.0  4.3  0.0  4.3\n",
              "7  04/04/2010  32.240 -115.300    6.0  5.7  0.0  5.7\n",
              "8  04/04/2010  32.296 -115.388    6.0  4.8  0.0  4.8\n",
              "9  05/04/2010  32.156 -115.222    9.0  4.8  0.0  4.8"
            ]
          },
          "metadata": {
            "tags": []
          }
        }
      ]
    },
    {
      "cell_type": "code",
      "metadata": {
        "id": "GOCfEI3i7Dks"
      },
      "source": [
        "df.groupby(df['date']).dt.month).count().plot(kind='bar')"
      ],
      "execution_count": null,
      "outputs": []
    },
    {
      "cell_type": "code",
      "metadata": {
        "id": "g17Z3zw7Awjy",
        "outputId": "c813a7e4-289c-42a6-e711-72e2a5e3bb35",
        "colab": {
          "base_uri": "https://localhost:8080/"
        }
      },
      "source": [
        "data[\"date\"] = data['date'].astype(\"datetime64\")\n",
        "print(data['date'])"
      ],
      "execution_count": 79,
      "outputs": [
        {
          "output_type": "stream",
          "text": [
            "0     2010-04-04\n",
            "1     2010-04-04\n",
            "2     2010-04-04\n",
            "3     2010-04-04\n",
            "4     2010-04-04\n",
            "         ...    \n",
            "99    2010-11-04\n",
            "100   2010-12-04\n",
            "101   2010-12-04\n",
            "102   2010-12-04\n",
            "103   2010-12-04\n",
            "Name: date, Length: 104, dtype: datetime64[ns]\n"
          ],
          "name": "stdout"
        }
      ]
    },
    {
      "cell_type": "code",
      "metadata": {
        "id": "rW4q6kd-_oPq",
        "outputId": "06ea5b25-82c6-43b6-9668-3979abad9535",
        "colab": {
          "base_uri": "https://localhost:8080/",
          "height": 129
        }
      },
      "source": [
        "df['date'].groupby([df[\"date\"].dt.year, df[\"date\"].dt.month],df[\"date\"].dt.day]).count().plot(kind=\"bar\")"
      ],
      "execution_count": 53,
      "outputs": [
        {
          "output_type": "error",
          "ename": "SyntaxError",
          "evalue": "ignored",
          "traceback": [
            "\u001b[0;36m  File \u001b[0;32m\"<ipython-input-53-e429a07fc872>\"\u001b[0;36m, line \u001b[0;32m1\u001b[0m\n\u001b[0;31m    df['date'].groupby([df[\"date\"].dt.year, df[\"date\"].dt.month],df[\"date\"].dt.day]).count().plot(kind=\"bar\")\u001b[0m\n\u001b[0m                                                                                  ^\u001b[0m\n\u001b[0;31mSyntaxError\u001b[0m\u001b[0;31m:\u001b[0m invalid syntax\n"
          ]
        }
      ]
    },
    {
      "cell_type": "code",
      "metadata": {
        "id": "IFgqIe4oGWVN",
        "outputId": "72dd845a-596e-4222-c501-5b6ac3de482b",
        "colab": {
          "base_uri": "https://localhost:8080/",
          "height": 282
        }
      },
      "source": [
        "h = df['date'].groupby([df['date'].dt.date])"
      ],
      "execution_count": 57,
      "outputs": [
        {
          "output_type": "error",
          "ename": "KeyError",
          "evalue": "ignored",
          "traceback": [
            "\u001b[0;31m---------------------------------------------------------------------------\u001b[0m",
            "\u001b[0;31mKeyError\u001b[0m                                  Traceback (most recent call last)",
            "\u001b[0;32m<ipython-input-57-d36deb1430ed>\u001b[0m in \u001b[0;36m<module>\u001b[0;34m()\u001b[0m\n\u001b[0;32m----> 1\u001b[0;31m \u001b[0mh\u001b[0m \u001b[0;34m=\u001b[0m \u001b[0mdf\u001b[0m\u001b[0;34m[\u001b[0m\u001b[0;34m'date'\u001b[0m\u001b[0;34m]\u001b[0m\u001b[0;34m.\u001b[0m\u001b[0mgroupby\u001b[0m\u001b[0;34m(\u001b[0m\u001b[0;34m[\u001b[0m\u001b[0mdf\u001b[0m\u001b[0;34m[\u001b[0m\u001b[0;34m'date'\u001b[0m\u001b[0;34m]\u001b[0m\u001b[0;34m.\u001b[0m\u001b[0mdt\u001b[0m\u001b[0;34m.\u001b[0m\u001b[0mdate\u001b[0m\u001b[0;34m]\u001b[0m\u001b[0;34m)\u001b[0m\u001b[0;34m\u001b[0m\u001b[0;34m\u001b[0m\u001b[0m\n\u001b[0m",
            "\u001b[0;32m/usr/local/lib/python3.6/dist-packages/pandas/core/base.py\u001b[0m in \u001b[0;36m__getitem__\u001b[0;34m(self, key)\u001b[0m\n\u001b[1;32m    226\u001b[0m         \u001b[0;32melse\u001b[0m\u001b[0;34m:\u001b[0m\u001b[0;34m\u001b[0m\u001b[0;34m\u001b[0m\u001b[0m\n\u001b[1;32m    227\u001b[0m             \u001b[0;32mif\u001b[0m \u001b[0mkey\u001b[0m \u001b[0;32mnot\u001b[0m \u001b[0;32min\u001b[0m \u001b[0mself\u001b[0m\u001b[0;34m.\u001b[0m\u001b[0mobj\u001b[0m\u001b[0;34m:\u001b[0m\u001b[0;34m\u001b[0m\u001b[0;34m\u001b[0m\u001b[0m\n\u001b[0;32m--> 228\u001b[0;31m                 \u001b[0;32mraise\u001b[0m \u001b[0mKeyError\u001b[0m\u001b[0;34m(\u001b[0m\u001b[0;34mf\"Column not found: {key}\"\u001b[0m\u001b[0;34m)\u001b[0m\u001b[0;34m\u001b[0m\u001b[0;34m\u001b[0m\u001b[0m\n\u001b[0m\u001b[1;32m    229\u001b[0m             \u001b[0;32mreturn\u001b[0m \u001b[0mself\u001b[0m\u001b[0;34m.\u001b[0m\u001b[0m_gotitem\u001b[0m\u001b[0;34m(\u001b[0m\u001b[0mkey\u001b[0m\u001b[0;34m,\u001b[0m \u001b[0mndim\u001b[0m\u001b[0;34m=\u001b[0m\u001b[0;36m1\u001b[0m\u001b[0;34m)\u001b[0m\u001b[0;34m\u001b[0m\u001b[0;34m\u001b[0m\u001b[0m\n\u001b[1;32m    230\u001b[0m \u001b[0;34m\u001b[0m\u001b[0m\n",
            "\u001b[0;31mKeyError\u001b[0m: 'Column not found: date'"
          ]
        }
      ]
    },
    {
      "cell_type": "code",
      "metadata": {
        "id": "bMnNmPQ-9qtN",
        "outputId": "6fcfdf52-0c12-43ea-e345-15da0fef53c1",
        "colab": {
          "base_uri": "https://localhost:8080/",
          "height": 395
        }
      },
      "source": [
        "fig = plt.figure(figsize=(30,10))\n",
        "w=data['date'].value_counts().plot(kind=\"bar\")\n",
        "plt.title('Réplicas')\n",
        "_=plt.show()"
      ],
      "execution_count": 80,
      "outputs": [
        {
          "output_type": "display_data",
          "data": {
            "image/png": "[encoded data removed]",
            "text/plain": [
              "<Figure size 2160x720 with 1 Axes>"
            ]
          },
          "metadata": {
            "tags": [],
            "needs_background": "light"
          }
        }
      ]
    },
    {
      "cell_type": "code",
      "metadata": {
        "id": "JT8OL-I3mhw7"
      },
      "source": [
        "w=data['date'].value_counts()"
      ],
      "execution_count": 81,
      "outputs": []
    },
    {
      "cell_type": "code",
      "metadata": {
        "id": "F_LXXI9LDw26",
        "outputId": "2cfecccc-8205-41dd-d905-3d86f990f8e9",
        "colab": {
          "base_uri": "https://localhost:8080/",
          "height": 163
        }
      },
      "source": [
        "print(shape(w))"
      ],
      "execution_count": 91,
      "outputs": [
        {
          "output_type": "error",
          "ename": "NameError",
          "evalue": "ignored",
          "traceback": [
            "\u001b[0;31m---------------------------------------------------------------------------\u001b[0m",
            "\u001b[0;31mNameError\u001b[0m                                 Traceback (most recent call last)",
            "\u001b[0;32m<ipython-input-91-ebc738822a93>\u001b[0m in \u001b[0;36m<module>\u001b[0;34m()\u001b[0m\n\u001b[0;32m----> 1\u001b[0;31m \u001b[0mprint\u001b[0m\u001b[0;34m(\u001b[0m\u001b[0mshape\u001b[0m\u001b[0;34m(\u001b[0m\u001b[0mw\u001b[0m\u001b[0;34m)\u001b[0m\u001b[0;34m)\u001b[0m\u001b[0;34m\u001b[0m\u001b[0;34m\u001b[0m\u001b[0m\n\u001b[0m",
            "\u001b[0;31mNameError\u001b[0m: name 'shape' is not defined"
          ]
        }
      ]
    },
    {
      "cell_type": "code",
      "metadata": {
        "id": "OmAvJgM8D0Ei",
        "outputId": "2e9a18cb-b8ad-4d40-d936-cfad8458d103",
        "colab": {
          "base_uri": "https://localhost:8080/"
        }
      },
      "source": [
        "df['Date'] =pd.to_datetime(w)\n",
        "print(df['Date'])"
      ],
      "execution_count": 88,
      "outputs": [
        {
          "output_type": "stream",
          "text": [
            "0     NaT\n",
            "1     NaT\n",
            "2     NaT\n",
            "3     NaT\n",
            "4     NaT\n",
            "       ..\n",
            "99    NaT\n",
            "100   NaT\n",
            "101   NaT\n",
            "102   NaT\n",
            "103   NaT\n",
            "Name: Date, Length: 104, dtype: datetime64[ns]\n"
          ],
          "name": "stdout"
        }
      ]
    },
    {
      "cell_type": "code",
      "metadata": {
        "id": "MFJKT_TwNTkW"
      },
      "source": [
        " #grouped=df.mode()\n",
        " #print(grouped)"
      ],
      "execution_count": null,
      "outputs": []
    },
    {
      "cell_type": "code",
      "metadata": {
        "id": "0bdAH61lUSwp"
      },
      "source": [
        "#series=pd.Series(data['date'])\n",
        "#print(series)"
      ],
      "execution_count": null,
      "outputs": []
    },
    {
      "cell_type": "code",
      "metadata": {
        "id": "SlLLCXomU3_6"
      },
      "source": [
        "#ocurr=series.value_counts()\n",
        "#print(ocurr)"
      ],
      "execution_count": null,
      "outputs": []
    },
    {
      "cell_type": "code",
      "metadata": {
        "id": "OXQolM9r0DiH"
      },
      "source": [
        "#counts=df.set_index(data['date']).resample(data['date']).size()"
      ],
      "execution_count": null,
      "outputs": []
    }
  ]
}